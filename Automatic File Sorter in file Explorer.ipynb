{
 "cells": [
  {
   "cell_type": "code",
   "execution_count": 44,
   "id": "1c0b6c82-6336-4817-8590-8791470447eb",
   "metadata": {},
   "outputs": [],
   "source": [
    "import os, shutil"
   ]
  },
  {
   "cell_type": "code",
   "execution_count": 45,
   "id": "c017a1f9-2198-4d86-b17c-f8da63b972a8",
   "metadata": {},
   "outputs": [],
   "source": [
    "file_path = r\"E:/COLLEGE 2024/Python Repository/Data/\""
   ]
  },
  {
   "cell_type": "code",
   "execution_count": 46,
   "id": "d99f3ebb-4d19-4750-b21b-c7e5686f7ff2",
   "metadata": {},
   "outputs": [
    {
     "name": "stdout",
     "output_type": "stream",
     "text": [
      "['AWS CLI.png', 'IAM Guidelines & Best Practices.png', 'IAM Password Policies.png', 'IAM Permissions.png', 'IAM Policies Inheritance.png', 'IAM Policies Structures.png', 'IAM Roles for Services.png', 'IAM Security Tools.png', 'Prabesh Rai.txt', 'Shared Responsiblities Model For IAM.png', 'status_reports_Wed Dec 18 2024 11_18_12 GMT-0500 (Eastern Standard Time).csv']\n"
     ]
    }
   ],
   "source": [
    "file_names = os.listdir(file_path)\n",
    "print(file_names)"
   ]
  },
  {
   "cell_type": "code",
   "execution_count": 47,
   "id": "6bc62d08-5c91-49d7-b20c-a71fced2e619",
   "metadata": {},
   "outputs": [
    {
     "name": "stdout",
     "output_type": "stream",
     "text": [
      "E:/COLLEGE 2024/Python Repository/Data/csv files folder created\n",
      "E:/COLLEGE 2024/Python Repository/Data/image files folder created\n",
      "E:/COLLEGE 2024/Python Repository/Data/text files folder created\n"
     ]
    }
   ],
   "source": [
    "folder_names = [\"csv files\", \"image files\", \"text files\"]\n",
    "\n",
    "for i in range(len(folder_names)):\n",
    "    folder_path = os.path.join(file_path + folder_names[i])\n",
    "    if not os.path.exists(folder_path): # check the folder exixts\n",
    "        os.makedirs(folder_path) # create folder\n",
    "        print(f\"{folder_path} folder created\")\n",
    "    else:\n",
    "        print(f\"{folder_path} already exixts\")"
   ]
  },
  {
   "cell_type": "code",
   "execution_count": 51,
   "id": "0d40e132-133f-4406-8885-67d7ce1ca072",
   "metadata": {},
   "outputs": [
    {
     "name": "stdout",
     "output_type": "stream",
     "text": [
      "Skipped AWS CLI.png: Unrecognized file type\n",
      "Skipped IAM Guidelines & Best Practices.png: Unrecognized file type\n",
      "Skipped IAM Password Policies.png: Unrecognized file type\n",
      "Skipped IAM Permissions.png: Unrecognized file type\n",
      "Skipped IAM Policies Inheritance.png: Unrecognized file type\n",
      "Skipped IAM Policies Structures.png: Unrecognized file type\n",
      "Skipped IAM Roles for Services.png: Unrecognized file type\n",
      "Skipped IAM Security Tools.png: Unrecognized file type\n",
      "Skipped Prabesh Rai.txt: Unrecognized file type\n",
      "Skipped Shared Responsiblities Model For IAM.png: Unrecognized file type\n",
      "Skipped status_reports_Wed Dec 18 2024 11_18_12 GMT-0500 (Eastern Standard Time).csv: Unrecognized file type\n"
     ]
    }
   ],
   "source": [
    "for file in file_names:\n",
    "    try:\n",
    "        if \".csv\" in file and not os.path.exists(file_path + \"csv files/\" + file):\n",
    "            shutil.move(file_path + file, file_path + \"csv files/\" + file)\n",
    "        elif \".png\" in file and not os.path.exists(file_path + \"image files/\" + file):\n",
    "            shutil.move(file_path + file, file_path + \"image files/\" + file)\n",
    "        elif \".txt\" in file and not os.path.exists(file_path + \"text files/\" + file):\n",
    "            shutil.move(file_path + file, file_path + \"text files/\" + file)\n",
    "        else:\n",
    "            print(f\"Skipped {file}: Unrecognized file type\")\n",
    "    except FileNotFoundError as e:\n",
    "        print(f\"Error moving file {file}: {e}\")\n",
    "    except Exception as e:\n",
    "        print(f\"Unexpected error with file {file}: {e}\")"
   ]
  },
  {
   "cell_type": "code",
   "execution_count": null,
   "id": "425cd28f-d6a8-43b9-b24c-baf386543c2e",
   "metadata": {},
   "outputs": [],
   "source": []
  },
  {
   "cell_type": "code",
   "execution_count": null,
   "id": "d4758f02-822b-4699-817e-a9478129d967",
   "metadata": {},
   "outputs": [],
   "source": []
  }
 ],
 "metadata": {
  "kernelspec": {
   "display_name": "Python 3 (ipykernel)",
   "language": "python",
   "name": "python3"
  },
  "language_info": {
   "codemirror_mode": {
    "name": "ipython",
    "version": 3
   },
   "file_extension": ".py",
   "mimetype": "text/x-python",
   "name": "python",
   "nbconvert_exporter": "python",
   "pygments_lexer": "ipython3",
   "version": "3.12.0"
  }
 },
 "nbformat": 4,
 "nbformat_minor": 5
}
